{
 "cells": [
  {
   "cell_type": "code",
   "execution_count": 1,
   "id": "541b0851-b656-4898-99e3-af7f2b66ddbb",
   "metadata": {},
   "outputs": [
    {
     "name": "stdout",
     "output_type": "stream",
     "text": [
      "Integer Variable: 10 Type: <class 'int'>\n",
      "Float Variable: 3.14 Type: <class 'float'>\n",
      "String Variable: Hello, Jupyter! Type: <class 'str'>\n",
      "Boolean Variable: True Type: <class 'bool'>\n"
     ]
    }
   ],
   "source": [
    "## Assignment-1\n",
    "integer_variable = 10\n",
    "float_variable = 3.14\n",
    "string_variable = \"Hello, Jupyter!\"\n",
    "boolean_variable = True\n",
    "\n",
    "# Print the variables and their types\n",
    "print(\"Integer Variable:\", integer_variable, \"Type:\", type(integer_variable))\n",
    "print(\"Float Variable:\", float_variable, \"Type:\", type(float_variable))\n",
    "print(\"String Variable:\", string_variable, \"Type:\", type(string_variable))\n",
    "print(\"Boolean Variable:\", boolean_variable, \"Type:\", type(boolean_variable))\n"
   ]
  },
  {
   "cell_type": "code",
   "execution_count": 2,
   "id": "893a5cca-9568-41f7-bad3-cab454030bb7",
   "metadata": {},
   "outputs": [
    {
     "name": "stdout",
     "output_type": "stream",
     "text": [
      "List: [10, 3.14, 'apple', True, 42]\n",
      "Access element at index 0 (first element): 10\n",
      "Access element at index 2 (third element): apple\n",
      "Access element at index 4 (fifth element): 42\n",
      "\n",
      "Tuple: (20, 'banana', 5.67, False, 'cherry')\n",
      "Access element at index 1 (second element): banana\n",
      "Access element at index 3 (fourth element): False\n",
      "\n",
      "Dictionary: {'name': 'Alice', 'age': 25, 'height': 5.6, 'is_student': True, 'country': 'USA'}\n",
      "Access value of 'name': Alice\n",
      "Access value of 'age': 25\n",
      "Access value of 'height': 5.6\n"
     ]
    }
   ],
   "source": [
    "## Assignment-2\n",
    "my_list = [10, 3.14, \"apple\", True, 42]\n",
    "\n",
    "# Access elements from the List by index\n",
    "print(\"List:\", my_list)\n",
    "print(\"Access element at index 0 (first element):\", my_list[0])  # Integer\n",
    "print(\"Access element at index 2 (third element):\", my_list[2])  # String\n",
    "print(\"Access element at index 4 (fifth element):\", my_list[4])  # Integer\n",
    "\n",
    "# Create a Tuple with 5 elements\n",
    "my_tuple = (20, \"banana\", 5.67, False, \"cherry\")\n",
    "\n",
    "# Access elements from the Tuple by index\n",
    "print(\"\\nTuple:\", my_tuple)\n",
    "print(\"Access element at index 1 (second element):\", my_tuple[1])  # String\n",
    "print(\"Access element at index 3 (fourth element):\", my_tuple[3])  # Boolean\n",
    "\n",
    "# Create a Dictionary with 5 key-value pairs\n",
    "my_dict = {\n",
    "    \"name\": \"Alice\",\n",
    "    \"age\": 25,\n",
    "    \"height\": 5.6,\n",
    "    \"is_student\": True,\n",
    "    \"country\": \"USA\"\n",
    "}\n",
    "\n",
    "# Access elements from the Dictionary by key\n",
    "print(\"\\nDictionary:\", my_dict)\n",
    "print(\"Access value of 'name':\", my_dict[\"name\"])  # String\n",
    "print(\"Access value of 'age':\", my_dict[\"age\"])  # Integer\n",
    "print(\"Access value of 'height':\", my_dict[\"height\"]) "
   ]
  },
  {
   "cell_type": "code",
   "execution_count": 3,
   "id": "b1656a83-aab4-4903-b9a3-53ace58be4fc",
   "metadata": {},
   "outputs": [
    {
     "name": "stdin",
     "output_type": "stream",
     "text": [
      "Enter marks for subject 1:  55\n",
      "Enter marks for subject 2:  62\n",
      "Enter marks for subject 3:  45\n"
     ]
    },
    {
     "name": "stdout",
     "output_type": "stream",
     "text": [
      "Grade: Fail\n"
     ]
    }
   ],
   "source": [
    "## Assignment-3\n",
    "# Input marks for three subjects\n",
    "mark1 = float(input(\"Enter marks for subject 1: \"))\n",
    "mark2 = float(input(\"Enter marks for subject 2: \"))\n",
    "mark3 = float(input(\"Enter marks for subject 3: \"))\n",
    "\n",
    "# Calculate the average\n",
    "average = (mark1 + mark2 + mark3) / 3\n",
    "\n",
    "# Determine the grade based on the average\n",
    "if average >= 90:\n",
    "    print(\"Grade: A\")\n",
    "elif 80 <= average < 90:\n",
    "    print(\"Grade: B\")\n",
    "elif 70 <= average < 80:\n",
    "    print(\"Grade: C\")\n",
    "else:\n",
    "    print(\"Grade: Fail\")\n"
   ]
  },
  {
   "cell_type": "code",
   "execution_count": 4,
   "id": "8b256b11-c518-4ec7-849b-53a2012b13ba",
   "metadata": {},
   "outputs": [
    {
     "name": "stdin",
     "output_type": "stream",
     "text": [
      "Enter a positive integer:  7\n"
     ]
    },
    {
     "name": "stdout",
     "output_type": "stream",
     "text": [
      "Sum of all even numbers between 1 and 7 is: 12\n"
     ]
    }
   ],
   "source": [
    "## Assignment-4\n",
    "# Input: a positive integer n\n",
    "n = int(input(\"Enter a positive integer: \"))\n",
    "\n",
    "# Initialize sum to 0\n",
    "sum_of_evens = 0\n",
    "\n",
    "# Loop through numbers from 1 to n\n",
    "for i in range(2, n+1, 2):  # Start at 2, increment by 2 to get even numbers\n",
    "    sum_of_evens += i\n",
    "\n",
    "# Output the result\n",
    "print(\"Sum of all even numbers between 1 and\", n, \"is:\", sum_of_evens)\n"
   ]
  },
  {
   "cell_type": "code",
   "execution_count": 5,
   "id": "3772f483-9bb0-4b4b-84c4-8a9c53092543",
   "metadata": {},
   "outputs": [
    {
     "name": "stdin",
     "output_type": "stream",
     "text": [
      "Enter a positive integer:  43\n"
     ]
    },
    {
     "name": "stdout",
     "output_type": "stream",
     "text": [
      "\n",
      "Numbers from 1 to 43 using a for loop:\n",
      "1\n",
      "2\n",
      "3\n",
      "4\n",
      "5\n",
      "6\n",
      "7\n",
      "8\n",
      "9\n",
      "10\n",
      "11\n",
      "12\n",
      "13\n",
      "14\n",
      "15\n",
      "16\n",
      "17\n",
      "18\n",
      "19\n",
      "20\n",
      "21\n",
      "22\n",
      "23\n",
      "24\n",
      "25\n",
      "26\n",
      "27\n",
      "28\n",
      "29\n",
      "30\n",
      "31\n",
      "32\n",
      "33\n",
      "34\n",
      "35\n",
      "36\n",
      "37\n",
      "38\n",
      "39\n",
      "40\n",
      "41\n",
      "42\n",
      "43\n",
      "\n",
      "The sum of all numbers from 1 to 43 is: 946\n"
     ]
    }
   ],
   "source": [
    "## Assignment-5-1\n",
    "\n",
    "# Step 1: Ask the user to enter a positive integer n\n",
    "n = int(input(\"Enter a positive integer: \"))\n",
    "\n",
    "# Step 2: Use a for loop to print all numbers from 1 to n on separate lines\n",
    "print(\"\\nNumbers from 1 to\", n, \"using a for loop:\")\n",
    "for i in range(1, n + 1):\n",
    "    print(i)\n",
    "\n",
    "# Step 3: Use a while loop to calculate the sum of all numbers from 1 to n\n",
    "sum_numbers = 0\n",
    "i = 1\n",
    "while i <= n:\n",
    "    sum_numbers += i\n",
    "    i += 1\n",
    "\n",
    "print(\"\\nThe sum of all numbers from 1 to\", n, \"is:\", sum_numbers)\n"
   ]
  },
  {
   "cell_type": "code",
   "execution_count": 6,
   "id": "a5bc9cc0-0181-4b02-97cf-6dca9102d2f8",
   "metadata": {},
   "outputs": [
    {
     "name": "stdin",
     "output_type": "stream",
     "text": [
      "Enter a positive integer:  6\n"
     ]
    },
    {
     "name": "stdout",
     "output_type": "stream",
     "text": [
      "The square of 6 is: 36\n"
     ]
    }
   ],
   "source": [
    "## Assignment-5-2\n",
    "# Step 1: Define a function named calculate_square that takes a single argument n and returns the square of n\n",
    "def calculate_square(n):\n",
    "    return n ** 2\n",
    "\n",
    "# Step 2: In the main program, ask the user to input a positive integer\n",
    "n = int(input(\"Enter a positive integer: \"))\n",
    "\n",
    "# Step 3: Call the calculate_square function with the user-provided number and display the result\n",
    "square = calculate_square(n)\n",
    "print(f\"The square of {n} is: {square}\")\n"
   ]
  },
  {
   "cell_type": "code",
   "execution_count": 7,
   "id": "95c6e78c-4b6f-4c76-9a70-ea6fab06bbf2",
   "metadata": {},
   "outputs": [
    {
     "name": "stdout",
     "output_type": "stream",
     "text": [
      "    Name  Age Department  Salary\n",
      "0   John   28         HR   45000\n",
      "1  Alice   34         IT   60000\n",
      "2    Bob   23  Marketing   35000\n",
      "3  Diana   29    Finance   50000\n"
     ]
    }
   ],
   "source": [
    "## Assignment-6-1\n",
    "import pandas as pd\n",
    "\n",
    "# Step 1: Create a DataFrame from the provided data\n",
    "data = {\n",
    "    'Name': ['John', 'Alice', 'Bob', 'Diana'],\n",
    "    'Age': [28, 34, 23, 29],\n",
    "    'Department': ['HR', 'IT', 'Marketing', 'Finance'],\n",
    "    'Salary': [45000, 60000, 35000, 50000]\n",
    "}\n",
    "\n",
    "# Create the DataFrame\n",
    "df = pd.DataFrame(data)\n",
    "\n",
    "# Display the DataFrame\n",
    "print(df)\n",
    "\n"
   ]
  },
  {
   "cell_type": "code",
   "execution_count": 8,
   "id": "a72c162b-d6d4-407b-ac97-94da20d0600b",
   "metadata": {},
   "outputs": [
    {
     "name": "stdout",
     "output_type": "stream",
     "text": [
      "First 2 rows of the DataFrame:\n",
      "    Name  Age Department  Salary\n",
      "0   John   28         HR   45000\n",
      "1  Alice   34         IT   60000\n",
      "\n",
      "\n",
      "DataFrame with 'Bonus' column added:\n",
      "    Name  Age Department  Salary   Bonus\n",
      "0   John   28         HR   45000  4500.0\n",
      "1  Alice   34         IT   60000  6000.0\n",
      "2    Bob   23  Marketing   35000  3500.0\n",
      "3  Diana   29    Finance   50000  5000.0\n",
      "\n",
      "\n",
      "Average salary of employees: 47500.00\n",
      "\n",
      "\n",
      "Employees older than 25:\n",
      "    Name  Age Department  Salary   Bonus\n",
      "0   John   28         HR   45000  4500.0\n",
      "1  Alice   34         IT   60000  6000.0\n",
      "3  Diana   29    Finance   50000  5000.0\n"
     ]
    }
   ],
   "source": [
    "## Assignment-6-2\n",
    "import pandas as pd\n",
    "\n",
    "# Create the DataFrame from the provided data\n",
    "data = {\n",
    "    'Name': ['John', 'Alice', 'Bob', 'Diana'],\n",
    "    'Age': [28, 34, 23, 29],\n",
    "    'Department': ['HR', 'IT', 'Marketing', 'Finance'],\n",
    "    'Salary': [45000, 60000, 35000, 50000]\n",
    "}\n",
    "\n",
    "df = pd.DataFrame(data)\n",
    "\n",
    "# Task 1: Display the first 2 rows of the DataFrame\n",
    "print(\"First 2 rows of the DataFrame:\")\n",
    "print(df.head(2))  # head(2) displays the first 2 rows\n",
    "print(\"\\n\")\n",
    "\n",
    "# Task 2: Add a new column 'Bonus' where the bonus is 10% of the salary\n",
    "df['Bonus'] = df['Salary'] * 0.10\n",
    "\n",
    "# Display the DataFrame with the new 'Bonus' column\n",
    "print(\"DataFrame with 'Bonus' column added:\")\n",
    "print(df)\n",
    "print(\"\\n\")\n",
    "\n",
    "# Task 3: Calculate the average salary of employees in the DataFrame\n",
    "average_salary = df['Salary'].mean()\n",
    "print(f\"Average salary of employees: {average_salary:.2f}\")\n",
    "print(\"\\n\")\n",
    "\n",
    "# Task 4: Filter and display employees who are older than 25\n",
    "older_than_25 = df[df['Age'] > 25]\n",
    "print(\"Employees older than 25:\")\n",
    "print(older_than_25)\n"
   ]
  },
  {
   "cell_type": "code",
   "execution_count": null,
   "id": "1bbdf4cf-0280-44e7-a175-f53917fcc33a",
   "metadata": {},
   "outputs": [],
   "source": []
  }
 ],
 "metadata": {
  "kernelspec": {
   "display_name": "Python 3 (ipykernel)",
   "language": "python",
   "name": "python3"
  },
  "language_info": {
   "codemirror_mode": {
    "name": "ipython",
    "version": 3
   },
   "file_extension": ".py",
   "mimetype": "text/x-python",
   "name": "python",
   "nbconvert_exporter": "python",
   "pygments_lexer": "ipython3",
   "version": "3.12.7"
  }
 },
 "nbformat": 4,
 "nbformat_minor": 5
}
