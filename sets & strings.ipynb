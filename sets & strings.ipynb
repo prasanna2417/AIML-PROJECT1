{
 "cells": [
  {
   "cell_type": "code",
   "execution_count": 1,
   "id": "265a1dbc",
   "metadata": {},
   "outputs": [
    {
     "name": "stdout",
     "output_type": "stream",
     "text": [
      "{0, 1, 8, 9, 10}\n",
      "<class 'set'>\n"
     ]
    }
   ],
   "source": [
    "s1 = {1,8,9,0,10,9,0,1,9}\n",
    "print(s1)\n",
    "print(type(s1))"
   ]
  },
  {
   "cell_type": "code",
   "execution_count": 2,
   "id": "cdcec14e",
   "metadata": {},
   "outputs": [],
   "source": [
    "lst1=[1,8,9,0,10,20,30,8,8,8]"
   ]
  },
  {
   "cell_type": "code",
   "execution_count": 3,
   "id": "785afd81",
   "metadata": {},
   "outputs": [
    {
     "name": "stdout",
     "output_type": "stream",
     "text": [
      "{0, 1, 8, 9, 10, 20, 30}\n",
      "<class 'set'>\n"
     ]
    }
   ],
   "source": [
    "s2=set(lst1)\n",
    "print(s2)\n",
    "print(type(s2))"
   ]
  },
  {
   "cell_type": "code",
   "execution_count": 4,
   "id": "771e5f67",
   "metadata": {},
   "outputs": [],
   "source": [
    "s1={1,2,3,4}\n",
    "s2={5,6,7,8}"
   ]
  },
  {
   "cell_type": "code",
   "execution_count": 5,
   "id": "642a04a8",
   "metadata": {},
   "outputs": [
    {
     "data": {
      "text/plain": [
       "{1, 2, 3, 4, 5, 6, 7, 8}"
      ]
     },
     "execution_count": 5,
     "metadata": {},
     "output_type": "execute_result"
    }
   ],
   "source": [
    "s1|s2"
   ]
  },
  {
   "cell_type": "code",
   "execution_count": 6,
   "id": "7f57d7e4",
   "metadata": {},
   "outputs": [
    {
     "data": {
      "text/plain": [
       "{1, 2, 3, 4, 5, 6, 7, 8}"
      ]
     },
     "execution_count": 6,
     "metadata": {},
     "output_type": "execute_result"
    }
   ],
   "source": [
    "s1.union(s2)"
   ]
  },
  {
   "cell_type": "code",
   "execution_count": 7,
   "id": "6523d120",
   "metadata": {},
   "outputs": [],
   "source": [
    "s1 = {1,2,3,4}\n",
    "s2 = {3,4,5,6}"
   ]
  },
  {
   "cell_type": "code",
   "execution_count": 8,
   "id": "45d7eeb5",
   "metadata": {},
   "outputs": [
    {
     "data": {
      "text/plain": [
       "{3, 4}"
      ]
     },
     "execution_count": 8,
     "metadata": {},
     "output_type": "execute_result"
    }
   ],
   "source": [
    "s1 & s2"
   ]
  },
  {
   "cell_type": "code",
   "execution_count": 9,
   "id": "b714dbc4",
   "metadata": {},
   "outputs": [
    {
     "data": {
      "text/plain": [
       "{3, 4}"
      ]
     },
     "execution_count": 9,
     "metadata": {},
     "output_type": "execute_result"
    }
   ],
   "source": [
    "s1.intersection(s2)"
   ]
  },
  {
   "cell_type": "code",
   "execution_count": 10,
   "id": "867fdb2f",
   "metadata": {},
   "outputs": [
    {
     "data": {
      "text/plain": [
       "{1, 2}"
      ]
     },
     "execution_count": 10,
     "metadata": {},
     "output_type": "execute_result"
    }
   ],
   "source": [
    "s1 - s2"
   ]
  },
  {
   "cell_type": "code",
   "execution_count": 11,
   "id": "33821349",
   "metadata": {},
   "outputs": [],
   "source": [
    "s1={1,2,3,4,5}\n",
    "s2={4,5,6,7,8}"
   ]
  },
  {
   "cell_type": "code",
   "execution_count": 12,
   "id": "2e059178",
   "metadata": {},
   "outputs": [
    {
     "data": {
      "text/plain": [
       "{1, 2, 3, 6, 7, 8}"
      ]
     },
     "execution_count": 12,
     "metadata": {},
     "output_type": "execute_result"
    }
   ],
   "source": [
    "s1.symmetric_difference(s2)"
   ]
  },
  {
   "cell_type": "code",
   "execution_count": 13,
   "id": "12d66d9b",
   "metadata": {},
   "outputs": [
    {
     "data": {
      "text/plain": [
       "{1, 2, 3, 6, 7, 8}"
      ]
     },
     "execution_count": 13,
     "metadata": {},
     "output_type": "execute_result"
    }
   ],
   "source": [
    "s2.symmetric_difference(s1)"
   ]
  },
  {
   "cell_type": "code",
   "execution_count": 14,
   "id": "fed01a51",
   "metadata": {},
   "outputs": [
    {
     "name": "stdout",
     "output_type": "stream",
     "text": [
      "Welecome to aiml class\n",
      "We started with python\n",
      " This is an awesome class\n"
     ]
    }
   ],
   "source": [
    "str1 = \"Welecome to aiml class\"\n",
    "print(str1)\n",
    "str2 = 'We started with python'\n",
    "print(str2)\n",
    "str3 = ''' This is an awesome class'''\n",
    "print(str3)"
   ]
  },
  {
   "cell_type": "code",
   "execution_count": 15,
   "id": "8cfba146",
   "metadata": {},
   "outputs": [
    {
     "name": "stdout",
     "output_type": "stream",
     "text": [
      "he said, \"Its awesome!\"\n"
     ]
    }
   ],
   "source": [
    "str4 = 'he said, \"Its awesome!\"'\n",
    "print(str4)"
   ]
  },
  {
   "cell_type": "code",
   "execution_count": 16,
   "id": "9319557c",
   "metadata": {},
   "outputs": [
    {
     "name": "stdout",
     "output_type": "stream",
     "text": [
      " he said, \"It's awesome!\n"
     ]
    }
   ],
   "source": [
    "str4 = ''' he said, \"It's awesome!'''\n",
    "print(str4)"
   ]
  },
  {
   "cell_type": "code",
   "execution_count": 17,
   "id": "cf76e5c4",
   "metadata": {},
   "outputs": [
    {
     "name": "stdout",
     "output_type": "stream",
     "text": [
      "Welecome to aiml class\n"
     ]
    },
    {
     "data": {
      "text/plain": [
       "'ome t'"
      ]
     },
     "execution_count": 17,
     "metadata": {},
     "output_type": "execute_result"
    }
   ],
   "source": [
    "print(str1)\n",
    "str1[5:10]"
   ]
  },
  {
   "cell_type": "code",
   "execution_count": 18,
   "id": "b82798ef",
   "metadata": {},
   "outputs": [
    {
     "data": {
      "text/plain": [
       "['__add__',\n",
       " '__class__',\n",
       " '__contains__',\n",
       " '__delattr__',\n",
       " '__dir__',\n",
       " '__doc__',\n",
       " '__eq__',\n",
       " '__format__',\n",
       " '__ge__',\n",
       " '__getattribute__',\n",
       " '__getitem__',\n",
       " '__getnewargs__',\n",
       " '__getstate__',\n",
       " '__gt__',\n",
       " '__hash__',\n",
       " '__init__',\n",
       " '__init_subclass__',\n",
       " '__iter__',\n",
       " '__le__',\n",
       " '__len__',\n",
       " '__lt__',\n",
       " '__mod__',\n",
       " '__mul__',\n",
       " '__ne__',\n",
       " '__new__',\n",
       " '__reduce__',\n",
       " '__reduce_ex__',\n",
       " '__repr__',\n",
       " '__rmod__',\n",
       " '__rmul__',\n",
       " '__setattr__',\n",
       " '__sizeof__',\n",
       " '__str__',\n",
       " '__subclasshook__',\n",
       " 'capitalize',\n",
       " 'casefold',\n",
       " 'center',\n",
       " 'count',\n",
       " 'encode',\n",
       " 'endswith',\n",
       " 'expandtabs',\n",
       " 'find',\n",
       " 'format',\n",
       " 'format_map',\n",
       " 'index',\n",
       " 'isalnum',\n",
       " 'isalpha',\n",
       " 'isascii',\n",
       " 'isdecimal',\n",
       " 'isdigit',\n",
       " 'isidentifier',\n",
       " 'islower',\n",
       " 'isnumeric',\n",
       " 'isprintable',\n",
       " 'isspace',\n",
       " 'istitle',\n",
       " 'isupper',\n",
       " 'join',\n",
       " 'ljust',\n",
       " 'lower',\n",
       " 'lstrip',\n",
       " 'maketrans',\n",
       " 'partition',\n",
       " 'removeprefix',\n",
       " 'removesuffix',\n",
       " 'replace',\n",
       " 'rfind',\n",
       " 'rindex',\n",
       " 'rjust',\n",
       " 'rpartition',\n",
       " 'rsplit',\n",
       " 'rstrip',\n",
       " 'split',\n",
       " 'splitlines',\n",
       " 'startswith',\n",
       " 'strip',\n",
       " 'swapcase',\n",
       " 'title',\n",
       " 'translate',\n",
       " 'upper',\n",
       " 'zfill']"
      ]
     },
     "execution_count": 18,
     "metadata": {},
     "output_type": "execute_result"
    }
   ],
   "source": [
    "dir(str)"
   ]
  },
  {
   "cell_type": "code",
   "execution_count": 19,
   "id": "10e7ed82",
   "metadata": {},
   "outputs": [
    {
     "data": {
      "text/plain": [
       "'ssalc lmia ot emoceleW'"
      ]
     },
     "execution_count": 19,
     "metadata": {},
     "output_type": "execute_result"
    }
   ],
   "source": [
    "str1[::-1]"
   ]
  },
  {
   "cell_type": "code",
   "execution_count": 20,
   "id": "95055c89",
   "metadata": {},
   "outputs": [
    {
     "name": "stdout",
     "output_type": "stream",
     "text": [
      "Welecome to aiml class\n"
     ]
    },
    {
     "data": {
      "text/plain": [
       "['Welecome', 'to', 'aiml', 'class']"
      ]
     },
     "execution_count": 20,
     "metadata": {},
     "output_type": "execute_result"
    }
   ],
   "source": [
    "print(str1)\n",
    "str1.split()"
   ]
  },
  {
   "cell_type": "code",
   "execution_count": 21,
   "id": "20a67dda",
   "metadata": {},
   "outputs": [
    {
     "data": {
      "text/plain": [
       "'The product is awesomeGreat Service'"
      ]
     },
     "execution_count": 21,
     "metadata": {},
     "output_type": "execute_result"
    }
   ],
   "source": [
    "reviews = [\"The product is awesome\", \"Great Service\"]\n",
    "joined_string = ''.join(reviews)\n",
    "joined_string"
   ]
  },
  {
   "cell_type": "code",
   "execution_count": 22,
   "id": "e90d0871",
   "metadata": {},
   "outputs": [
    {
     "name": "stdout",
     "output_type": "stream",
     "text": [
      "  Hello, How are you?  \n"
     ]
    }
   ],
   "source": [
    "str5 = \"  Hello, How are you?  \"\n",
    "print(str5)"
   ]
  },
  {
   "cell_type": "code",
   "execution_count": 23,
   "id": "1f07d1b6",
   "metadata": {},
   "outputs": [
    {
     "data": {
      "text/plain": [
       "'Hello, How are you?'"
      ]
     },
     "execution_count": 23,
     "metadata": {},
     "output_type": "execute_result"
    }
   ],
   "source": [
    "str5.strip()"
   ]
  },
  {
   "cell_type": "code",
   "execution_count": 24,
   "id": "0a80ea5e",
   "metadata": {},
   "outputs": [],
   "source": [
    "sales_data = {\n",
    "    \"ProductID\": [101, 102, 103, 104, 105, 106, 107, 108, 109, 110],\n",
    "    \"ProductName\": [\"Laptop\", \"Mouse\", \"Keyboard\", \"Monitor\", \"Chair\", \"Desk\", \"Webcam\", \"Headphones\", \"Printer\", \"Tablet\"],\n",
    "    \"Category\": [\"Electronics\", \"Accessories\", \"Accessories\", \"Electronics\", \"Furniture\", \"Furniture\", \"Electronics\", \"Accessories\", \"Electronics\", \"Electronics\"],\n",
    "    \"PriceRange\": [\"High\", \"Low\", \"Low\", \"Medium\", \"Medium\", \"Medium\", \"Low\", \"Low\", \"Medium\", \"High\"],\n",
    "    \"StockAvailable\": [15, 100, 75, 20, 10, 8, 50, 60, 25, 12],\n",
    "}"
   ]
  },
  {
   "cell_type": "code",
   "execution_count": 25,
   "id": "b22e7314",
   "metadata": {},
   "outputs": [
    {
     "name": "stdout",
     "output_type": "stream",
     "text": [
      "ProductID {101, 102, 103, 104, 105, 106, 107, 108, 109, 110},/n\n",
      "ProductName {'Monitor', 'Mouse', 'Chair', 'Headphones', 'Desk', 'Printer', 'Keyboard', 'Webcam', 'Tablet', 'Laptop'},/n\n",
      "Category {'Furniture', 'Accessories', 'Electronics'},/n\n",
      "PriceRange {'Medium', 'Low', 'High'},/n\n",
      "StockAvailable {100, 8, 10, 75, 12, 15, 50, 20, 25, 60},/n\n"
     ]
    }
   ],
   "source": [
    "for k,v in sales_data.items():\n",
    "    print(k,set(v), end =',')\n",
    "    print('/n')"
   ]
  },
  {
   "cell_type": "code",
   "execution_count": 26,
   "id": "3f5e88d2",
   "metadata": {},
   "outputs": [
    {
     "data": {
      "text/plain": [
       "{'Review1': {'WordCount': 14,\n",
       "  'UniqueWords': ['delivery',\n",
       "   'and',\n",
       "   'was',\n",
       "   'excellent',\n",
       "   'functionality',\n",
       "   'product',\n",
       "   'prompt',\n",
       "   'the',\n",
       "   'quality',\n",
       "   'versatile',\n",
       "   'is']},\n",
       " 'Review2': {'WordCount': 15,\n",
       "  'UniqueWords': ['good',\n",
       "   'service',\n",
       "   'but',\n",
       "   'packaging',\n",
       "   'has',\n",
       "   'could',\n",
       "   'better',\n",
       "   'have',\n",
       "   'been',\n",
       "   'customer',\n",
       "   'to',\n",
       "   'the',\n",
       "   'improve']},\n",
       " 'Review3': {'WordCount': 18,\n",
       "  'UniqueWords': ['rate',\n",
       "   'support',\n",
       "   'works',\n",
       "   'excellent',\n",
       "   'very',\n",
       "   'but',\n",
       "   'fine',\n",
       "   'not',\n",
       "   'as',\n",
       "   'product',\n",
       "   'helpful',\n",
       "   'i',\n",
       "   'customer',\n",
       "   'the',\n",
       "   'is']}}"
      ]
     },
     "execution_count": 26,
     "metadata": {},
     "output_type": "execute_result"
    }
   ],
   "source": [
    "reviews = {\n",
    "    \"Review1\": \"The product quality is excellent and delivery was prompt. The product functionality is versatile\",\n",
    "    \"Review2\": \"Good service but the packaging could have been better. The customer service has to improve\",\n",
    "    \"Review3\": \"The product works fine, but the customer support is not very helpful. I rate the product as excellent\",\n",
    "}\n",
    "\n",
    "# Result dictionary to store analysis of reviews\n",
    "review_analysis = {}\n",
    "\n",
    "# Process each review\n",
    "for key, review in reviews.items():\n",
    "    # Split the review into words\n",
    "    words = review.lower().replace('.', '').replace(',', '').split()\n",
    "    # Create a sub-dictionary with word count and unique words\n",
    "    review_analysis[key] = {\n",
    "        \"WordCount\": len(words),\n",
    "        \"UniqueWords\": list(set(words))\n",
    "    }\n",
    "\n",
    "review_analysis\n"
   ]
  },
  {
   "cell_type": "code",
   "execution_count": 29,
   "id": "efe2a8f1",
   "metadata": {},
   "outputs": [],
   "source": [
    "d1 = {\"Ram\":180, \"Shyam\":170, \"Ramya\":176}"
   ]
  },
  {
   "cell_type": "code",
   "execution_count": 30,
   "id": "98d8fe59",
   "metadata": {},
   "outputs": [
    {
     "name": "stdout",
     "output_type": "stream",
     "text": [
      "Ram\n",
      "Shyam\n",
      "Ramya\n"
     ]
    }
   ],
   "source": [
    "for k in d1.keys():\n",
    "    print(k)"
   ]
  },
  {
   "cell_type": "code",
   "execution_count": 31,
   "id": "10a4438e",
   "metadata": {},
   "outputs": [
    {
     "name": "stdout",
     "output_type": "stream",
     "text": [
      "180\n",
      "170\n",
      "176\n"
     ]
    }
   ],
   "source": [
    "for v in d1.values():\n",
    "    print(v)"
   ]
  },
  {
   "cell_type": "code",
   "execution_count": 32,
   "id": "483ad209",
   "metadata": {},
   "outputs": [
    {
     "name": "stdout",
     "output_type": "stream",
     "text": [
      "Ram 180\n",
      "Shyam 170\n",
      "Ramya 176\n"
     ]
    }
   ],
   "source": [
    "for k,v in d1.items():\n",
    "    print(k,v)"
   ]
  },
  {
   "cell_type": "code",
   "execution_count": null,
   "id": "5cb721ee",
   "metadata": {},
   "outputs": [],
   "source": []
  }
 ],
 "metadata": {
  "kernelspec": {
   "display_name": "Python 3 (ipykernel)",
   "language": "python",
   "name": "python3"
  },
  "language_info": {
   "codemirror_mode": {
    "name": "ipython",
    "version": 3
   },
   "file_extension": ".py",
   "mimetype": "text/x-python",
   "name": "python",
   "nbconvert_exporter": "python",
   "pygments_lexer": "ipython3",
   "version": "3.11.4"
  }
 },
 "nbformat": 4,
 "nbformat_minor": 5
}
