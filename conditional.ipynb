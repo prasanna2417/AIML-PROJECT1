{
 "cells": [
  {
   "cell_type": "code",
   "execution_count": 1,
   "id": "0611398d-40f2-4f55-9151-320aca5a42ab",
   "metadata": {},
   "outputs": [
    {
     "name": "stdout",
     "output_type": "stream",
     "text": [
      "Even\n"
     ]
    }
   ],
   "source": [
    "num=6\n",
    "if num %2==0:\n",
    "    print(\"Even\")\n",
    "else:\n",
    "    print(\"Odd\")"
   ]
  },
  {
   "cell_type": "code",
   "execution_count": 3,
   "id": "f91214fc-cb54-421c-b1d9-4d32630afe8d",
   "metadata": {},
   "outputs": [
    {
     "name": "stdout",
     "output_type": "stream",
     "text": [
      "Even\n"
     ]
    }
   ],
   "source": [
    "print(\"Even\") if num%2==0 else print(\"Odd\")"
   ]
  },
  {
   "cell_type": "code",
   "execution_count": 5,
   "id": "c859268d-0488-4d47-aa28-7dabb5ca1b41",
   "metadata": {},
   "outputs": [
    {
     "name": "stdout",
     "output_type": "stream",
     "text": [
      "Positive\n"
     ]
    }
   ],
   "source": [
    "x = 10\n",
    "result = \"Positive\" if x>0 else \"Negative\"\n",
    "print(result)"
   ]
  },
  {
   "cell_type": "code",
   "execution_count": 7,
   "id": "9f3d0d56-a1f0-4688-bbd7-c79f07b0e5ce",
   "metadata": {},
   "outputs": [
    {
     "name": "stdout",
     "output_type": "stream",
     "text": [
      "Adult\n"
     ]
    }
   ],
   "source": [
    "age = 18\n",
    "category = \"Adult\" if age >= 18 else \"Minor\"\n",
    "print(category)"
   ]
  },
  {
   "cell_type": "code",
   "execution_count": 9,
   "id": "78bb6035-1844-4fd7-9b5e-755c3e6a60d4",
   "metadata": {},
   "outputs": [
    {
     "name": "stdout",
     "output_type": "stream",
     "text": [
      "Zero\n"
     ]
    }
   ],
   "source": [
    "num = 0\n",
    "result = \"Positive\" if num > 0 else \"Negative\" if num < 0 else \"Zero\"\n",
    "print(result)"
   ]
  },
  {
   "cell_type": "code",
   "execution_count": 11,
   "id": "840f5467-a76b-4883-9a7e-e6fb1981a3e7",
   "metadata": {},
   "outputs": [
    {
     "name": "stdout",
     "output_type": "stream",
     "text": [
      "Positive\n"
     ]
    }
   ],
   "source": [
    "num = 9\n",
    "result = \"Positive\" if num > 0 else \"Negative\" if num < 0 else \"Zero\"\n",
    "print(result)"
   ]
  },
  {
   "cell_type": "code",
   "execution_count": 13,
   "id": "abd21bf8-c9c2-49e9-bad1-99df4e408c2d",
   "metadata": {},
   "outputs": [
    {
     "name": "stdout",
     "output_type": "stream",
     "text": [
      "Negative\n"
     ]
    }
   ],
   "source": [
    "num = -5\n",
    "result = \"Positive\" if num > 0 else \"Negative\" if num < 0 else \"Zero\"\n",
    "print(result)"
   ]
  },
  {
   "cell_type": "code",
   "execution_count": 15,
   "id": "afa55b85-90bd-48ce-b4c0-542ace202883",
   "metadata": {},
   "outputs": [
    {
     "data": {
      "text/plain": [
       "[2, 18, 4, 20, 112, 178]"
      ]
     },
     "execution_count": 15,
     "metadata": {},
     "output_type": "execute_result"
    }
   ],
   "source": [
    "L = [1,9,2,10,56,89]\n",
    "[2*x for x in L]"
   ]
  },
  {
   "cell_type": "code",
   "execution_count": 17,
   "id": "6b653c28-4bb8-4eaf-a8bd-0d5e241060b5",
   "metadata": {},
   "outputs": [
    {
     "data": {
      "text/plain": [
       "[2, 10, 56]"
      ]
     },
     "execution_count": 17,
     "metadata": {},
     "output_type": "execute_result"
    }
   ],
   "source": [
    "[x for x in L if x%2 == 0]"
   ]
  },
  {
   "cell_type": "code",
   "execution_count": 19,
   "id": "4b1ada88-dbaa-4e8e-9c48-2f0a4b70ec3a",
   "metadata": {},
   "outputs": [
    {
     "data": {
      "text/plain": [
       "[1, 9, 89]"
      ]
     },
     "execution_count": 19,
     "metadata": {},
     "output_type": "execute_result"
    }
   ],
   "source": [
    "[x for x in L if x%2 != 0]"
   ]
  },
  {
   "cell_type": "code",
   "execution_count": 21,
   "id": "1e58a5da-8ec2-49ac-8bc5-07a438676074",
   "metadata": {},
   "outputs": [
    {
     "data": {
      "text/plain": [
       "{'Ram': [70, 71, 98, 100], 'John': [56, 98, 67, 65], 'Prem': [76, 98, 91, 87]}"
      ]
     },
     "execution_count": 21,
     "metadata": {},
     "output_type": "execute_result"
    }
   ],
   "source": [
    "d1 = {'Ram':[70,71,98,100], 'John':[56,98,67,65], 'Prem':[76,98,91,87]}\n",
    "d1"
   ]
  },
  {
   "cell_type": "code",
   "execution_count": 23,
   "id": "da30a46f-1639-4268-b40c-69c0d1e86616",
   "metadata": {},
   "outputs": [
    {
     "data": {
      "text/plain": [
       "{'Ram': 84.75, 'John': 71.5, 'Prem': 88.0}"
      ]
     },
     "execution_count": 23,
     "metadata": {},
     "output_type": "execute_result"
    }
   ],
   "source": [
    "{k:sum(v)/len(v) for k,v in d1.items()}"
   ]
  },
  {
   "cell_type": "code",
   "execution_count": null,
   "id": "74bce163-76b3-4792-8b9b-c6fdf9f8dcd0",
   "metadata": {},
   "outputs": [],
   "source": [
    "#### Write a user defined function to compute average"
   ]
  },
  {
   "cell_type": "code",
   "execution_count": 25,
   "id": "34e9c612-22d1-41ee-bfbc-bbdac750b2f5",
   "metadata": {},
   "outputs": [],
   "source": [
    "def mean_value(given_list):\n",
    "    total = sum(given_list)\n",
    "    average_value = total/len(given_list)\n",
    "    return average_value"
   ]
  },
  {
   "cell_type": "code",
   "execution_count": 27,
   "id": "d39484dd-95c4-4da8-8c10-96ca7f18d52f",
   "metadata": {},
   "outputs": [
    {
     "data": {
      "text/plain": [
       "5.5"
      ]
     },
     "execution_count": 27,
     "metadata": {},
     "output_type": "execute_result"
    }
   ],
   "source": [
    "# Call the function\n",
    "L = [1,2,3,4,5,6,7,8,9,10]\n",
    "mean_value(L)"
   ]
  },
  {
   "cell_type": "code",
   "execution_count": 31,
   "id": "d36344a3-c4b9-47d7-a681-e84106efe7db",
   "metadata": {},
   "outputs": [
    {
     "ename": "SyntaxError",
     "evalue": "invalid syntax (3777015842.py, line 1)",
     "output_type": "error",
     "traceback": [
      "\u001b[1;36m  Cell \u001b[1;32mIn[31], line 1\u001b[1;36m\u001b[0m\n\u001b[1;33m    L = [\"Good Morning\":\"Prasanna\"]\u001b[0m\n\u001b[1;37m                       ^\u001b[0m\n\u001b[1;31mSyntaxError\u001b[0m\u001b[1;31m:\u001b[0m invalid syntax\n"
     ]
    }
   ],
   "source": [
    "def greet(prasanna):\n",
    "    print(f\"good morning, {prasanna}\")\n",
    "    \n",
    "    "
   ]
  },
  {
   "cell_type": "code",
   "execution_count": null,
   "id": "52832266-0895-4996-b06f-09e4a34352ec",
   "metadata": {},
   "outputs": [],
   "source": []
  }
 ],
 "metadata": {
  "kernelspec": {
   "display_name": "Python [conda env:base] *",
   "language": "python",
   "name": "conda-base-py"
  },
  "language_info": {
   "codemirror_mode": {
    "name": "ipython",
    "version": 3
   },
   "file_extension": ".py",
   "mimetype": "text/x-python",
   "name": "python",
   "nbconvert_exporter": "python",
   "pygments_lexer": "ipython3",
   "version": "3.12.7"
  }
 },
 "nbformat": 4,
 "nbformat_minor": 5
}
