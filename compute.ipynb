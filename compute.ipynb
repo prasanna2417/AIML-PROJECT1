{
 "cells": [
  {
   "cell_type": "code",
   "execution_count": 27,
   "id": "6d0fccd5-eeda-4d70-89c9-0b84fdeb0f1d",
   "metadata": {},
   "outputs": [],
   "source": [
    "def mean_value(given_list):\n",
    "    total = sum(given_list)\n",
    "    average_value = total/len(given_list)\n",
    "    return average_value"
   ]
  },
  {
   "cell_type": "code",
   "execution_count": 29,
   "id": "c54084e3-99a2-48ef-9a1e-0d233199d7d7",
   "metadata": {},
   "outputs": [],
   "source": [
    "def median_value(*n):\n",
    "    num_list = list(n)\n",
    "    num_list.sort()\n",
    "    l = len(num_list)\n",
    "\n",
    "    if l%2 == 0:\n",
    "        median = (num_list[int(l/2)] + num_list[int((l/2))-1])/2\n",
    "    else:\n",
    "        median = num_list[int(l/2)]\n",
    "    return median"
   ]
  },
  {
   "cell_type": "code",
   "execution_count": 35,
   "id": "14ecc5e3-90e6-4a65-8e89-be26b2f1fd66",
   "metadata": {},
   "outputs": [
    {
     "data": {
      "text/plain": [
       "5.5"
      ]
     },
     "execution_count": 35,
     "metadata": {},
     "output_type": "execute_result"
    }
   ],
   "source": [
    "L=(1,2,3,4,5,6,7,8,9,10)\n",
    "mean_value(L)"
   ]
  },
  {
   "cell_type": "code",
   "execution_count": 17,
   "id": "e70dd886-5a0e-48d2-9db1-877633213bf8",
   "metadata": {},
   "outputs": [
    {
     "data": {
      "text/plain": [
       "5.5"
      ]
     },
     "execution_count": 17,
     "metadata": {},
     "output_type": "execute_result"
    }
   ],
   "source": [
    "median_value(1,2,3,4,5,6,7,8,9,10)"
   ]
  },
  {
   "cell_type": "code",
   "execution_count": null,
   "id": "22be021c-dccb-47c1-9903-711055d2b09a",
   "metadata": {},
   "outputs": [],
   "source": []
  }
 ],
 "metadata": {
  "kernelspec": {
   "display_name": "Python [conda env:base] *",
   "language": "python",
   "name": "conda-base-py"
  },
  "language_info": {
   "codemirror_mode": {
    "name": "ipython",
    "version": 3
   },
   "file_extension": ".py",
   "mimetype": "text/x-python",
   "name": "python",
   "nbconvert_exporter": "python",
   "pygments_lexer": "ipython3",
   "version": "3.12.7"
  }
 },
 "nbformat": 4,
 "nbformat_minor": 5
}
